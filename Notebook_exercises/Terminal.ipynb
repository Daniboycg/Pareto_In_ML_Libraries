{
 "cells": [
  {
   "cell_type": "markdown",
   "metadata": {},
   "source": [
    "He don't give it to me the terminal, but I consider is a very powerfull that everyone who works with a Machine, must to know. So...\n",
    "> Let's start with \"the linux terminal\"\n",
    "---\n",
    "Sure, let's focus on the fundamental principles of using the Linux terminal. Mastering these concepts will cover 20% of the most important knowledge to efficiently work with the terminal and achieve 80% of the desired tasks.\n",
    "\n",
    "Exercise 1: Navigating the File System\n",
    "\n",
    "1. How do you list all files and directories in the current directory?  \n",
    "`ls -a :)`\n",
    "\n",
    "Exercise 2: Directory Operations\n",
    "\n",
    "2. How do you create a new directory?  \n",
    "`mkdir directory_name :)`\n",
    "\n",
    "3. How do you remove an empty directory?  \n",
    " `rm -r directory_name :)`\n",
    "\n",
    "Exercise 3: File Operations\n",
    "\n",
    "4. How do you create a new empty file?    \n",
    " `touch file.txt or any type file :)`\n",
    "\n",
    "5. How do you copy, move, and rename files?  \n",
    " `cp actual_path new_path / mv actual_path new_path / mv actual_path new_path --> To rename it, when you move it to the new path, you have to change the name of the file. You can rename it without moving the file to another path. :)`\n",
    "\n",
    "Exercise 4: File Permissions\n",
    "\n",
    "6. How do you change file permissions using numerical notation?  \n",
    "`chmod 644 filename.txt :(`\n",
    "\n",
    "\n",
    "Exercise 5: Text Manipulation\n",
    "\n",
    "7. How do you display the contents of a text file on the terminal?  \n",
    " `cat file.txt :)`\n",
    "8. How do you search for a specific pattern in a text file?  \n",
    "`I think is with the grep command, but am not sure --> grep \"pattern\" filename.txt 1/2 :)`\n",
    "\n",
    "Exercise 6: Command History\n",
    "\n",
    "9. How do you repeat a previously executed command using history?  \n",
    " `history !42 --> :(`\n",
    "\n",
    "\n",
    "Exercise 7: Process Management\n",
    "\n",
    "10. How do you list running processes and terminate a process?  \n",
    " `ps aux / kill PID --> :(`\n",
    "\n",
    "\n",
    "\n",
    "These exercises will cover the fundamental concepts of using the Linux terminal effectively. When you're ready, please ask for \"answers,\" and I'll provide detailed solutions for each exercise.\n"
   ]
  },
  {
   "cell_type": "markdown",
   "metadata": {},
   "source": []
  }
 ],
 "metadata": {
  "language_info": {
   "name": "python"
  },
  "orig_nbformat": 4
 },
 "nbformat": 4,
 "nbformat_minor": 2
}
