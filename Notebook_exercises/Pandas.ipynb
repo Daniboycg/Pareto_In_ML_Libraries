{
 "cells": [
  {
   "attachments": {},
   "cell_type": "markdown",
   "metadata": {},
   "source": [
    "# Pandas exercises\n",
    "### Fundamental Principles of Pandas:\n",
    "\n",
    "**Data Structures:**\n",
    "* Understand two primary data structures: Series (1D) and DataFrame (2D).\n",
    "* Create Series and DataFrames from various data sources.\n",
    "\n",
    "**Data Access:**\n",
    "* Access data in Series and DataFrames using indexing and slicing.\n",
    "* Use boolean indexing to filter data based on conditions.\n",
    "\n",
    "**Data Cleaning:**\n",
    "* Handle missing data using methods like dropna() or filling with fillna().\n",
    "* Remove duplicate rows using drop_duplicates().\n",
    "\n",
    "**Data Transformation:**\n",
    "* Perform operations like filtering, sorting, and merging DataFrames.\n",
    "* Apply functions element-wise using apply().\n",
    "\n",
    "**Aggregation and Grouping:**\n",
    "* Group data based on one or more columns and apply aggregation functions.\n",
    "* Use groupby() and agg() for this purpose.\n",
    "\n",
    "**Data Visualization:**\n",
    "* Visualize data using built-in plotting functions.\n",
    "* Plot data trends, distributions, and relationships.\n",
    "\n",
    "**Data Input and Output:**\n",
    "* Read data from various sources (CSV, Excel, SQL databases) using Pandas.\n",
    "* Write data to different file formats.\n",
    "\n",
    "**Time Series Data:**\n",
    "* Handle time-based data using the datetime data type and functions.\n",
    "* Resample and aggregate time series data.\n",
    "\n",
    "**Indexing and Hierarchical Indexing:**\n",
    "* Learn about indexing, resetting indexes, and hierarchical indexing in DataFrames.\n",
    "\n",
    "**Merging and Joining DataFrames:**\n",
    "* Combine DataFrames using methods like merge() and join() based on keys or indices.\n",
    "\n",
    "Now, here are 10 exercises based on these principles for you to solve:"
   ]
  },
  {
   "cell_type": "code",
   "execution_count": 53,
   "metadata": {},
   "outputs": [
    {
     "data": {
      "text/html": [
       "<div>\n",
       "<style scoped>\n",
       "    .dataframe tbody tr th:only-of-type {\n",
       "        vertical-align: middle;\n",
       "    }\n",
       "\n",
       "    .dataframe tbody tr th {\n",
       "        vertical-align: top;\n",
       "    }\n",
       "\n",
       "    .dataframe thead th {\n",
       "        text-align: right;\n",
       "    }\n",
       "</style>\n",
       "<table border=\"1\" class=\"dataframe\">\n",
       "  <thead>\n",
       "    <tr style=\"text-align: right;\">\n",
       "      <th></th>\n",
       "      <th>name</th>\n",
       "      <th>age</th>\n",
       "      <th>city</th>\n",
       "    </tr>\n",
       "  </thead>\n",
       "  <tbody>\n",
       "    <tr>\n",
       "      <th>0</th>\n",
       "      <td>dani</td>\n",
       "      <td>23.0</td>\n",
       "      <td>Morelia</td>\n",
       "    </tr>\n",
       "    <tr>\n",
       "      <th>1</th>\n",
       "      <td>Luke</td>\n",
       "      <td>34.0</td>\n",
       "      <td>Miami</td>\n",
       "    </tr>\n",
       "    <tr>\n",
       "      <th>2</th>\n",
       "      <td>Iman</td>\n",
       "      <td>23.0</td>\n",
       "      <td>Dubai</td>\n",
       "    </tr>\n",
       "    <tr>\n",
       "      <th>3</th>\n",
       "      <td>Andrew</td>\n",
       "      <td>NaN</td>\n",
       "      <td>Roma</td>\n",
       "    </tr>\n",
       "    <tr>\n",
       "      <th>4</th>\n",
       "      <td>Tristan</td>\n",
       "      <td>NaN</td>\n",
       "      <td>Roma</td>\n",
       "    </tr>\n",
       "    <tr>\n",
       "      <th>5</th>\n",
       "      <td>Santi</td>\n",
       "      <td>15.0</td>\n",
       "      <td>Morelia</td>\n",
       "    </tr>\n",
       "    <tr>\n",
       "      <th>6</th>\n",
       "      <td>Anibal</td>\n",
       "      <td>22.0</td>\n",
       "      <td>Miami</td>\n",
       "    </tr>\n",
       "    <tr>\n",
       "      <th>7</th>\n",
       "      <td>Ulises</td>\n",
       "      <td>25.0</td>\n",
       "      <td>Miami</td>\n",
       "    </tr>\n",
       "  </tbody>\n",
       "</table>\n",
       "</div>"
      ],
      "text/plain": [
       "      name   age     city\n",
       "0     dani  23.0  Morelia\n",
       "1     Luke  34.0    Miami\n",
       "2     Iman  23.0    Dubai\n",
       "3   Andrew   NaN     Roma\n",
       "4  Tristan   NaN     Roma\n",
       "5    Santi  15.0  Morelia\n",
       "6   Anibal  22.0    Miami\n",
       "7   Ulises  25.0    Miami"
      ]
     },
     "execution_count": 53,
     "metadata": {},
     "output_type": "execute_result"
    }
   ],
   "source": [
    "# 1. Create a DataFrame from a dictionary containing information about people \n",
    "# (name, age, city).\n",
    "import pandas as pd\n",
    "import numpy as np\n",
    "people = {\n",
    "    'name' : ['dani', 'Luke','Iman','Andrew', 'Tristan','Santi','Anibal','Ulises'],\n",
    "    'age' : [23, 34, 23, np.nan, np.nan,15,22,25],\n",
    "    'city' : ['Morelia','Miami','Dubai','Roma', 'Roma','Morelia','Miami','Miami']\n",
    "}\n",
    "df = pd.DataFrame(people)\n",
    "df\n",
    "# :)"
   ]
  },
  {
   "cell_type": "code",
   "execution_count": 54,
   "metadata": {},
   "outputs": [
    {
     "data": {
      "text/plain": [
       "0    23.0\n",
       "1    34.0\n",
       "2    23.0\n",
       "3     NaN\n",
       "4     NaN\n",
       "5    15.0\n",
       "6    22.0\n",
       "7    25.0\n",
       "Name: age, dtype: float64"
      ]
     },
     "execution_count": 54,
     "metadata": {},
     "output_type": "execute_result"
    }
   ],
   "source": [
    "# 2. Access the age column of the DataFrame created in Exercise 1.\n",
    "df['age']\n",
    "# :)"
   ]
  },
  {
   "cell_type": "code",
   "execution_count": 55,
   "metadata": {},
   "outputs": [
    {
     "data": {
      "text/html": [
       "<div>\n",
       "<style scoped>\n",
       "    .dataframe tbody tr th:only-of-type {\n",
       "        vertical-align: middle;\n",
       "    }\n",
       "\n",
       "    .dataframe tbody tr th {\n",
       "        vertical-align: top;\n",
       "    }\n",
       "\n",
       "    .dataframe thead th {\n",
       "        text-align: right;\n",
       "    }\n",
       "</style>\n",
       "<table border=\"1\" class=\"dataframe\">\n",
       "  <thead>\n",
       "    <tr style=\"text-align: right;\">\n",
       "      <th></th>\n",
       "      <th>name</th>\n",
       "      <th>age</th>\n",
       "      <th>city</th>\n",
       "    </tr>\n",
       "  </thead>\n",
       "  <tbody>\n",
       "    <tr>\n",
       "      <th>0</th>\n",
       "      <td>dani</td>\n",
       "      <td>23.0</td>\n",
       "      <td>Morelia</td>\n",
       "    </tr>\n",
       "    <tr>\n",
       "      <th>1</th>\n",
       "      <td>Luke</td>\n",
       "      <td>34.0</td>\n",
       "      <td>Miami</td>\n",
       "    </tr>\n",
       "    <tr>\n",
       "      <th>2</th>\n",
       "      <td>Iman</td>\n",
       "      <td>23.0</td>\n",
       "      <td>Dubai</td>\n",
       "    </tr>\n",
       "    <tr>\n",
       "      <th>3</th>\n",
       "      <td>Andrew</td>\n",
       "      <td>23.0</td>\n",
       "      <td>Roma</td>\n",
       "    </tr>\n",
       "    <tr>\n",
       "      <th>4</th>\n",
       "      <td>Tristan</td>\n",
       "      <td>23.0</td>\n",
       "      <td>Roma</td>\n",
       "    </tr>\n",
       "    <tr>\n",
       "      <th>5</th>\n",
       "      <td>Santi</td>\n",
       "      <td>15.0</td>\n",
       "      <td>Morelia</td>\n",
       "    </tr>\n",
       "    <tr>\n",
       "      <th>6</th>\n",
       "      <td>Anibal</td>\n",
       "      <td>22.0</td>\n",
       "      <td>Miami</td>\n",
       "    </tr>\n",
       "    <tr>\n",
       "      <th>7</th>\n",
       "      <td>Ulises</td>\n",
       "      <td>25.0</td>\n",
       "      <td>Miami</td>\n",
       "    </tr>\n",
       "  </tbody>\n",
       "</table>\n",
       "</div>"
      ],
      "text/plain": [
       "      name   age     city\n",
       "0     dani  23.0  Morelia\n",
       "1     Luke  34.0    Miami\n",
       "2     Iman  23.0    Dubai\n",
       "3   Andrew  23.0     Roma\n",
       "4  Tristan  23.0     Roma\n",
       "5    Santi  15.0  Morelia\n",
       "6   Anibal  22.0    Miami\n",
       "7   Ulises  25.0    Miami"
      ]
     },
     "execution_count": 55,
     "metadata": {},
     "output_type": "execute_result"
    }
   ],
   "source": [
    "# 3. Replace missing age values in the DataFrame with the mean age.\n",
    "# I had to create two more rows.\n",
    "df = df.fillna(int(df['age'].mean()))\n",
    "df\n",
    "# :)\n"
   ]
  },
  {
   "cell_type": "code",
   "execution_count": 58,
   "metadata": {},
   "outputs": [
    {
     "data": {
      "text/plain": [
       "city\n",
       "Dubai      1\n",
       "Miami      3\n",
       "Morelia    2\n",
       "Roma       2\n",
       "Name: age, dtype: int64"
      ]
     },
     "execution_count": 58,
     "metadata": {},
     "output_type": "execute_result"
    }
   ],
   "source": [
    "# 4. Group the DataFrame from Exercise 1 by city and calculate the average age in each city.\n",
    "# Created 3 more rows for this xd\n",
    "df.groupby('city')['age'].mean()\n",
    "df.groupby('city')['age'].count()\n",
    "# :)"
   ]
  },
  {
   "cell_type": "code",
   "execution_count": 60,
   "metadata": {},
   "outputs": [
    {
     "data": {
      "text/html": [
       "<div>\n",
       "<style scoped>\n",
       "    .dataframe tbody tr th:only-of-type {\n",
       "        vertical-align: middle;\n",
       "    }\n",
       "\n",
       "    .dataframe tbody tr th {\n",
       "        vertical-align: top;\n",
       "    }\n",
       "\n",
       "    .dataframe thead th {\n",
       "        text-align: right;\n",
       "    }\n",
       "</style>\n",
       "<table border=\"1\" class=\"dataframe\">\n",
       "  <thead>\n",
       "    <tr style=\"text-align: right;\">\n",
       "      <th></th>\n",
       "      <th>job_ID</th>\n",
       "      <th>designation</th>\n",
       "      <th>company_id</th>\n",
       "      <th>name</th>\n",
       "      <th>work_type</th>\n",
       "      <th>involvement</th>\n",
       "      <th>employees_count</th>\n",
       "      <th>total_applicants</th>\n",
       "      <th>linkedin_followers</th>\n",
       "      <th>job_details</th>\n",
       "      <th>details_id</th>\n",
       "      <th>industry</th>\n",
       "      <th>level</th>\n",
       "      <th>City</th>\n",
       "      <th>State</th>\n",
       "    </tr>\n",
       "  </thead>\n",
       "  <tbody>\n",
       "    <tr>\n",
       "      <th>0</th>\n",
       "      <td>3471657636</td>\n",
       "      <td>Data Analyst</td>\n",
       "      <td>524.0</td>\n",
       "      <td>Crossover</td>\n",
       "      <td>Remote</td>\n",
       "      <td>Full-time</td>\n",
       "      <td>1001</td>\n",
       "      <td>200</td>\n",
       "      <td>5.395547e+06</td>\n",
       "      <td>About the job Crossover is the world's #1 sour...</td>\n",
       "      <td>2697</td>\n",
       "      <td>IT Services and IT Consulting</td>\n",
       "      <td>Associate</td>\n",
       "      <td>Delhi</td>\n",
       "      <td>Delhi</td>\n",
       "    </tr>\n",
       "    <tr>\n",
       "      <th>1</th>\n",
       "      <td>3471669068</td>\n",
       "      <td>Data Analyst</td>\n",
       "      <td>524.0</td>\n",
       "      <td>Crossover</td>\n",
       "      <td>Remote</td>\n",
       "      <td>Full-time</td>\n",
       "      <td>1001</td>\n",
       "      <td>184</td>\n",
       "      <td>5.395547e+06</td>\n",
       "      <td>About the job Crossover is the world's #1 sour...</td>\n",
       "      <td>2724</td>\n",
       "      <td>IT Services and IT Consulting</td>\n",
       "      <td>Associate</td>\n",
       "      <td>New Delhi</td>\n",
       "      <td>Delhi</td>\n",
       "    </tr>\n",
       "    <tr>\n",
       "      <th>2</th>\n",
       "      <td>3474349934</td>\n",
       "      <td>Data Analyst</td>\n",
       "      <td>2242.0</td>\n",
       "      <td>Uplers</td>\n",
       "      <td>Remote</td>\n",
       "      <td>Full-time</td>\n",
       "      <td>1001</td>\n",
       "      <td>200</td>\n",
       "      <td>9.821152e+05</td>\n",
       "      <td>About the job Profile: ML EngineersExperience:...</td>\n",
       "      <td>3668</td>\n",
       "      <td>IT Services and IT Consulting</td>\n",
       "      <td>Mid-Senior level</td>\n",
       "      <td>Greater Bengaluru Area</td>\n",
       "      <td>Karnataka</td>\n",
       "    </tr>\n",
       "    <tr>\n",
       "      <th>3</th>\n",
       "      <td>3472816027</td>\n",
       "      <td>Data Analyst</td>\n",
       "      <td>1553.0</td>\n",
       "      <td>PVAR SERVICES</td>\n",
       "      <td>On-site</td>\n",
       "      <td>Full-time</td>\n",
       "      <td>1</td>\n",
       "      <td>200</td>\n",
       "      <td>2.094000e+03</td>\n",
       "      <td>About the job Designation: Data AnalystLocatio...</td>\n",
       "      <td>3083</td>\n",
       "      <td>Not Avilable</td>\n",
       "      <td>Not Avilable</td>\n",
       "      <td>Gurugram</td>\n",
       "      <td>Haryana</td>\n",
       "    </tr>\n",
       "    <tr>\n",
       "      <th>4</th>\n",
       "      <td>3473311511</td>\n",
       "      <td>Data Analyst</td>\n",
       "      <td>2147.0</td>\n",
       "      <td>Timeline Freight Brokers</td>\n",
       "      <td>On-site</td>\n",
       "      <td>Full-time</td>\n",
       "      <td>1</td>\n",
       "      <td>8</td>\n",
       "      <td>9.821152e+05</td>\n",
       "      <td>About the job The ideal candidate will use the...</td>\n",
       "      <td>3359</td>\n",
       "      <td>Not Avilable</td>\n",
       "      <td>Not Avilable</td>\n",
       "      <td>Mohali district</td>\n",
       "      <td>North West</td>\n",
       "    </tr>\n",
       "  </tbody>\n",
       "</table>\n",
       "</div>"
      ],
      "text/plain": [
       "       job_ID   designation  company_id                      name work_type   \n",
       "0  3471657636  Data Analyst       524.0                 Crossover    Remote  \\\n",
       "1  3471669068  Data Analyst       524.0                 Crossover    Remote   \n",
       "2  3474349934  Data Analyst      2242.0                    Uplers    Remote   \n",
       "3  3472816027  Data Analyst      1553.0             PVAR SERVICES   On-site   \n",
       "4  3473311511  Data Analyst      2147.0  Timeline Freight Brokers   On-site   \n",
       "\n",
       "  involvement  employees_count  total_applicants  linkedin_followers   \n",
       "0   Full-time             1001               200        5.395547e+06  \\\n",
       "1   Full-time             1001               184        5.395547e+06   \n",
       "2   Full-time             1001               200        9.821152e+05   \n",
       "3   Full-time                1               200        2.094000e+03   \n",
       "4   Full-time                1                 8        9.821152e+05   \n",
       "\n",
       "                                         job_details  details_id   \n",
       "0  About the job Crossover is the world's #1 sour...        2697  \\\n",
       "1  About the job Crossover is the world's #1 sour...        2724   \n",
       "2  About the job Profile: ML EngineersExperience:...        3668   \n",
       "3  About the job Designation: Data AnalystLocatio...        3083   \n",
       "4  About the job The ideal candidate will use the...        3359   \n",
       "\n",
       "                         industry              level                    City   \n",
       "0   IT Services and IT Consulting          Associate                   Delhi  \\\n",
       "1   IT Services and IT Consulting          Associate               New Delhi   \n",
       "2   IT Services and IT Consulting   Mid-Senior level  Greater Bengaluru Area   \n",
       "3                    Not Avilable       Not Avilable                Gurugram   \n",
       "4                    Not Avilable       Not Avilable         Mohali district   \n",
       "\n",
       "        State  \n",
       "0       Delhi  \n",
       "1       Delhi  \n",
       "2   Karnataka  \n",
       "3     Haryana  \n",
       "4  North West  "
      ]
     },
     "execution_count": 60,
     "metadata": {},
     "output_type": "execute_result"
    }
   ],
   "source": [
    "# 5. Read a CSV file into a DataFrame and display its first 5 rows.\n",
    "csv = pd.read_csv('/Users/daniboy/Documents/datastets/job_cleanData.csv')\n",
    "csv.head()\n",
    "# :)"
   ]
  },
  {
   "cell_type": "code",
   "execution_count": 61,
   "metadata": {},
   "outputs": [
    {
     "name": "stdout",
     "output_type": "stream",
     "text": [
      "<class 'pandas.core.frame.DataFrame'>\n",
      "RangeIndex: 5587 entries, 0 to 5586\n",
      "Data columns (total 15 columns):\n",
      " #   Column              Non-Null Count  Dtype  \n",
      "---  ------              --------------  -----  \n",
      " 0   job_ID              5587 non-null   int64  \n",
      " 1   designation         5587 non-null   object \n",
      " 2   company_id          5587 non-null   float64\n",
      " 3   name                5587 non-null   object \n",
      " 4   work_type           5587 non-null   object \n",
      " 5   involvement         5587 non-null   object \n",
      " 6   employees_count     5587 non-null   int64  \n",
      " 7   total_applicants    5587 non-null   int64  \n",
      " 8   linkedin_followers  5587 non-null   float64\n",
      " 9   job_details         5587 non-null   object \n",
      " 10  details_id          5587 non-null   int64  \n",
      " 11  industry            5587 non-null   object \n",
      " 12  level               5587 non-null   object \n",
      " 13  City                5587 non-null   object \n",
      " 14  State               5587 non-null   object \n",
      "dtypes: float64(2), int64(4), object(9)\n",
      "memory usage: 654.9+ KB\n"
     ]
    }
   ],
   "source": [
    "csv.info()"
   ]
  },
  {
   "cell_type": "code",
   "execution_count": 63,
   "metadata": {},
   "outputs": [],
   "source": [
    "# 6. Merge two DataFrames based on a common key (e.g., merge employee data with department data).\n",
    "employee = {'e_id':[1,2,3], 'dep_id':[2,1,3], 'manager':['dani','pablo','picasso']}\n",
    "department = {'dep_id':[1,2,3], 'department_name':['HR','Engineering','Marketing']}\n",
    "e = pd.DataFrame(employee)\n",
    "d= pd.DataFrame(department)\n"
   ]
  },
  {
   "cell_type": "code",
   "execution_count": 66,
   "metadata": {},
   "outputs": [
    {
     "data": {
      "text/html": [
       "<div>\n",
       "<style scoped>\n",
       "    .dataframe tbody tr th:only-of-type {\n",
       "        vertical-align: middle;\n",
       "    }\n",
       "\n",
       "    .dataframe tbody tr th {\n",
       "        vertical-align: top;\n",
       "    }\n",
       "\n",
       "    .dataframe thead th {\n",
       "        text-align: right;\n",
       "    }\n",
       "</style>\n",
       "<table border=\"1\" class=\"dataframe\">\n",
       "  <thead>\n",
       "    <tr style=\"text-align: right;\">\n",
       "      <th></th>\n",
       "      <th>e_id</th>\n",
       "      <th>dep_id</th>\n",
       "      <th>manager</th>\n",
       "      <th>department_name</th>\n",
       "    </tr>\n",
       "  </thead>\n",
       "  <tbody>\n",
       "    <tr>\n",
       "      <th>0</th>\n",
       "      <td>1</td>\n",
       "      <td>2</td>\n",
       "      <td>dani</td>\n",
       "      <td>Engineering</td>\n",
       "    </tr>\n",
       "    <tr>\n",
       "      <th>1</th>\n",
       "      <td>2</td>\n",
       "      <td>1</td>\n",
       "      <td>pablo</td>\n",
       "      <td>HR</td>\n",
       "    </tr>\n",
       "    <tr>\n",
       "      <th>2</th>\n",
       "      <td>3</td>\n",
       "      <td>3</td>\n",
       "      <td>picasso</td>\n",
       "      <td>Marketing</td>\n",
       "    </tr>\n",
       "  </tbody>\n",
       "</table>\n",
       "</div>"
      ],
      "text/plain": [
       "   e_id  dep_id  manager department_name\n",
       "0     1       2     dani     Engineering\n",
       "1     2       1    pablo              HR\n",
       "2     3       3  picasso       Marketing"
      ]
     },
     "execution_count": 66,
     "metadata": {},
     "output_type": "execute_result"
    }
   ],
   "source": [
    "emp_dep = pd.merge(e,d, on='dep_id')\n",
    "emp_dep\n",
    "# :D"
   ]
  },
  {
   "cell_type": "code",
   "execution_count": 69,
   "metadata": {},
   "outputs": [
    {
     "data": {
      "text/html": [
       "<div>\n",
       "<style scoped>\n",
       "    .dataframe tbody tr th:only-of-type {\n",
       "        vertical-align: middle;\n",
       "    }\n",
       "\n",
       "    .dataframe tbody tr th {\n",
       "        vertical-align: top;\n",
       "    }\n",
       "\n",
       "    .dataframe thead th {\n",
       "        text-align: right;\n",
       "    }\n",
       "</style>\n",
       "<table border=\"1\" class=\"dataframe\">\n",
       "  <thead>\n",
       "    <tr style=\"text-align: right;\">\n",
       "      <th></th>\n",
       "      <th>name</th>\n",
       "      <th>age</th>\n",
       "      <th>city</th>\n",
       "    </tr>\n",
       "  </thead>\n",
       "  <tbody>\n",
       "    <tr>\n",
       "      <th>1</th>\n",
       "      <td>Luke</td>\n",
       "      <td>34.0</td>\n",
       "      <td>Miami</td>\n",
       "    </tr>\n",
       "  </tbody>\n",
       "</table>\n",
       "</div>"
      ],
      "text/plain": [
       "   name   age   city\n",
       "1  Luke  34.0  Miami"
      ]
     },
     "execution_count": 69,
     "metadata": {},
     "output_type": "execute_result"
    }
   ],
   "source": [
    "# 7. Create a new DataFrame that contains only rows with ages greater than 30.\n",
    "df.query('age>30')\n",
    "# easy :)\n"
   ]
  },
  {
   "cell_type": "code",
   "execution_count": 70,
   "metadata": {},
   "outputs": [
    {
     "data": {
      "text/plain": [
       "city\n",
       "Dubai      23.0\n",
       "Miami      81.0\n",
       "Morelia    38.0\n",
       "Roma       46.0\n",
       "Name: age, dtype: float64"
      ]
     },
     "execution_count": 70,
     "metadata": {},
     "output_type": "execute_result"
    }
   ],
   "source": [
    "# 8. Calculate the sum of the ages for each city in the DataFrame from Exercise 4.\n",
    "df.groupby('city')['age'].sum()\n"
   ]
  },
  {
   "cell_type": "code",
   "execution_count": 72,
   "metadata": {},
   "outputs": [
    {
     "data": {
      "text/plain": [
       "<Axes: ylabel='Frequency'>"
      ]
     },
     "execution_count": 72,
     "metadata": {},
     "output_type": "execute_result"
    },
    {
     "data": {
      "image/png": "[encoded data removed]",
      "text/plain": [
       "<Figure size 640x480 with 1 Axes>"
      ]
     },
     "metadata": {},
     "output_type": "display_data"
    }
   ],
   "source": [
    "# 9. Plot a histogram of the ages in the DataFrame from Exercise 1.\n",
    "df['age'].plot(kind='hist')\n",
    "# :)"
   ]
  },
  {
   "cell_type": "code",
   "execution_count": 73,
   "metadata": {},
   "outputs": [],
   "source": [
    "# 10. Write the DataFrame from Exercise 4 to a CSV file.\n",
    "df4 = df.groupby('city')['age'].mean()\n",
    "#df4.to_csv('/path')\n",
    "# I will not run it, cuz i dont want this file in my system :)\n",
    "# This was too easy tbh. Is this the 20% that produces the 80% of the results in pandas? Don't think so\n"
   ]
  },
  {
   "cell_type": "code",
   "execution_count": null,
   "metadata": {},
   "outputs": [],
   "source": []
  }
 ],
 "metadata": {
  "kernelspec": {
   "display_name": "ML",
   "language": "python",
   "name": "python3"
  },
  "language_info": {
   "codemirror_mode": {
    "name": "ipython",
    "version": 3
   },
   "file_extension": ".py",
   "mimetype": "text/x-python",
   "name": "python",
   "nbconvert_exporter": "python",
   "pygments_lexer": "ipython3",
   "version": "3.11.3"
  },
  "orig_nbformat": 4,
  "vscode": {
   "interpreter": {
    "hash": "013996f4590695308fe873e73ccfad17b6da13415dc74e9458db8bd8258c00bb"
   }
  }
 },
 "nbformat": 4,
 "nbformat_minor": 2
}
