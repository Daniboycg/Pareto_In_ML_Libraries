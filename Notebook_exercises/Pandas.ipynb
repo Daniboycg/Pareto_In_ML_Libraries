{
 "cells": [
  {
   "attachments": {},
   "cell_type": "markdown",
   "metadata": {},
   "source": [
    "# Pandas exercises\n",
    "### Fundamental Principles of Pandas:\n",
    "\n",
    "**Data Structures:**\n",
    "* Understand two primary data structures: Series (1D) and DataFrame (2D).\n",
    "* Create Series and DataFrames from various data sources.\n",
    "\n",
    "**Data Access:**\n",
    "* Access data in Series and DataFrames using indexing and slicing.\n",
    "* Use boolean indexing to filter data based on conditions.\n",
    "\n",
    "**Data Cleaning:**\n",
    "* Handle missing data using methods like dropna() or filling with fillna().\n",
    "* Remove duplicate rows using drop_duplicates().\n",
    "\n",
    "**Data Transformation:**\n",
    "* Perform operations like filtering, sorting, and merging DataFrames.\n",
    "* Apply functions element-wise using apply().\n",
    "\n",
    "**Aggregation and Grouping:**\n",
    "* Group data based on one or more columns and apply aggregation functions.\n",
    "* Use groupby() and agg() for this purpose.\n",
    "\n",
    "**Data Visualization:**\n",
    "* Visualize data using built-in plotting functions.\n",
    "* Plot data trends, distributions, and relationships.\n",
    "\n",
    "**Data Input and Output:**\n",
    "* Read data from various sources (CSV, Excel, SQL databases) using Pandas.\n",
    "* Write data to different file formats.\n",
    "\n",
    "**Time Series Data:**\n",
    "* Handle time-based data using the datetime data type and functions.\n",
    "* Resample and aggregate time series data.\n",
    "\n",
    "**Indexing and Hierarchical Indexing:**\n",
    "* Learn about indexing, resetting indexes, and hierarchical indexing in DataFrames.\n",
    "\n",
    "**Merging and Joining DataFrames:**\n",
    "* Combine DataFrames using methods like merge() and join() based on keys or indices.\n",
    "\n",
    "Now, here are 10 exercises based on these principles for you to solve:"
   ]
  },
  {
   "cell_type": "code",
   "execution_count": 9,
   "metadata": {},
   "outputs": [
    {
     "data": {
      "text/html": [
       "<div>\n",
       "<style scoped>\n",
       "    .dataframe tbody tr th:only-of-type {\n",
       "        vertical-align: middle;\n",
       "    }\n",
       "\n",
       "    .dataframe tbody tr th {\n",
       "        vertical-align: top;\n",
       "    }\n",
       "\n",
       "    .dataframe thead th {\n",
       "        text-align: right;\n",
       "    }\n",
       "</style>\n",
       "<table border=\"1\" class=\"dataframe\">\n",
       "  <thead>\n",
       "    <tr style=\"text-align: right;\">\n",
       "      <th></th>\n",
       "      <th>name</th>\n",
       "      <th>age</th>\n",
       "      <th>city</th>\n",
       "    </tr>\n",
       "  </thead>\n",
       "  <tbody>\n",
       "    <tr>\n",
       "      <th>0</th>\n",
       "      <td>dani</td>\n",
       "      <td>23.0</td>\n",
       "      <td>Morelia</td>\n",
       "    </tr>\n",
       "    <tr>\n",
       "      <th>1</th>\n",
       "      <td>Luke</td>\n",
       "      <td>34.0</td>\n",
       "      <td>Miami</td>\n",
       "    </tr>\n",
       "    <tr>\n",
       "      <th>2</th>\n",
       "      <td>Iman</td>\n",
       "      <td>23.0</td>\n",
       "      <td>Dubai</td>\n",
       "    </tr>\n",
       "    <tr>\n",
       "      <th>3</th>\n",
       "      <td>Andrew</td>\n",
       "      <td>NaN</td>\n",
       "      <td>Roma</td>\n",
       "    </tr>\n",
       "    <tr>\n",
       "      <th>4</th>\n",
       "      <td>Tristan</td>\n",
       "      <td>NaN</td>\n",
       "      <td>Paris</td>\n",
       "    </tr>\n",
       "  </tbody>\n",
       "</table>\n",
       "</div>"
      ],
      "text/plain": [
       "      name   age     city\n",
       "0     dani  23.0  Morelia\n",
       "1     Luke  34.0    Miami\n",
       "2     Iman  23.0    Dubai\n",
       "3   Andrew   NaN     Roma\n",
       "4  Tristan   NaN    Paris"
      ]
     },
     "execution_count": 9,
     "metadata": {},
     "output_type": "execute_result"
    }
   ],
   "source": [
    "# 1. Create a DataFrame from a dictionary containing information about people \n",
    "# (name, age, city).\n",
    "import pandas as pd\n",
    "import numpy as np\n",
    "people = {\n",
    "    'name' : ['dani', 'Luke','Iman','Andrew', 'Tristan'],\n",
    "    'age' : [23, 34, 23, np.nan, np.nan ],\n",
    "    'city' : ['Morelia','Miami','Dubai','Roma', 'Paris']\n",
    "}\n",
    "df = pd.DataFrame(people)\n",
    "df\n",
    "# :)"
   ]
  },
  {
   "cell_type": "code",
   "execution_count": 10,
   "metadata": {},
   "outputs": [
    {
     "data": {
      "text/plain": [
       "0    23.0\n",
       "1    34.0\n",
       "2    23.0\n",
       "3     NaN\n",
       "4     NaN\n",
       "Name: age, dtype: float64"
      ]
     },
     "execution_count": 10,
     "metadata": {},
     "output_type": "execute_result"
    }
   ],
   "source": [
    "# 2. Access the age column of the DataFrame created in Exercise 1.\n",
    "df['age']\n",
    "# :)"
   ]
  },
  {
   "cell_type": "code",
   "execution_count": null,
   "metadata": {},
   "outputs": [],
   "source": [
    "# 3. Replace missing age values in the DataFrame with the mean age.\n",
    "# I had to create two more rows.\n",
    "\n",
    "\n"
   ]
  }
 ],
 "metadata": {
  "kernelspec": {
   "display_name": "ML",
   "language": "python",
   "name": "python3"
  },
  "language_info": {
   "codemirror_mode": {
    "name": "ipython",
    "version": 3
   },
   "file_extension": ".py",
   "mimetype": "text/x-python",
   "name": "python",
   "nbconvert_exporter": "python",
   "pygments_lexer": "ipython3",
   "version": "3.11.3"
  },
  "orig_nbformat": 4,
  "vscode": {
   "interpreter": {
    "hash": "013996f4590695308fe873e73ccfad17b6da13415dc74e9458db8bd8258c00bb"
   }
  }
 },
 "nbformat": 4,
 "nbformat_minor": 2
}
