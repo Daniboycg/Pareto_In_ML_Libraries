{
 "cells": [
  {
   "attachments": {},
   "cell_type": "markdown",
   "metadata": {},
   "source": [
    "# Numpy Exercises"
   ]
  },
  {
   "cell_type": "code",
   "execution_count": 7,
   "metadata": {},
   "outputs": [
    {
     "data": {
      "text/plain": [
       "array([ 1,  2,  3,  4,  5,  6,  7,  8,  9, 10])"
      ]
     },
     "execution_count": 7,
     "metadata": {},
     "output_type": "execute_result"
    }
   ],
   "source": [
    "# 1. Create a NumPy array containing the numbers from 1 to 10.\n",
    "import numpy as np\n",
    "ls = np.array([1,2,3,4,5,6,7,8,9,10])\n",
    "ls\n",
    "# :)\n"
   ]
  },
  {
   "cell_type": "code",
   "execution_count": 10,
   "metadata": {},
   "outputs": [
    {
     "data": {
      "text/plain": [
       "[2, 4, 6, 8, 10]"
      ]
     },
     "execution_count": 10,
     "metadata": {},
     "output_type": "execute_result"
    }
   ],
   "source": [
    "# 2. Extract the even numbers from the array created in Exercise 1.\n",
    "list(filter(lambda x: x%2==0, ls))\n",
    "# Is this valid? \n",
    "# :)"
   ]
  },
  {
   "cell_type": "code",
   "execution_count": 12,
   "metadata": {},
   "outputs": [
    {
     "name": "stdout",
     "output_type": "stream",
     "text": [
      "5.5\n",
      "55\n"
     ]
    }
   ],
   "source": [
    "# Calculate the sum and mean of the array created in Exercise 1.\n",
    "print(np.mean(ls))\n",
    "print(np.sum(ls))\n",
    "# :)\n"
   ]
  },
  {
   "cell_type": "code",
   "execution_count": 17,
   "metadata": {},
   "outputs": [
    {
     "data": {
      "text/plain": [
       "array([[[2, 7, 6],\n",
       "        [6, 6, 5],\n",
       "        [8, 3, 3]]])"
      ]
     },
     "execution_count": 17,
     "metadata": {},
     "output_type": "execute_result"
    }
   ],
   "source": [
    "# 4. Create a 3x3 NumPy array with random integers between 1 and 9.\n",
    "col1 = np.random.randint(1,9,3)\n",
    "col2 = np.random.randint(1,9,3)\n",
    "col3 = np.random.randint(1,9,3)\n",
    "matriz = np.array([[col1,col2,col3]])\n",
    "matriz\n",
    "# less than 30 seconds :p :)"
   ]
  },
  {
   "cell_type": "code",
   "execution_count": 20,
   "metadata": {},
   "outputs": [
    {
     "data": {
      "text/plain": [
       "array([2, 7, 6, 6, 6, 5, 8, 3, 3])"
      ]
     },
     "execution_count": 20,
     "metadata": {},
     "output_type": "execute_result"
    }
   ],
   "source": [
    "# 5. Reshape the array from Exercise 4 into a 1D array.\n",
    "m_1D = matriz.reshape(9,)\n",
    "m_1D\n",
    "# :D\n"
   ]
  },
  {
   "cell_type": "code",
   "execution_count": 24,
   "metadata": {},
   "outputs": [
    {
     "data": {
      "text/plain": [
       "array([2, 7, 6, 6, 6, 5, 8, 3, 3, 2, 7, 6, 6, 6, 5, 8, 3, 3])"
      ]
     },
     "execution_count": 24,
     "metadata": {},
     "output_type": "execute_result"
    }
   ],
   "source": [
    "# 6. Concatenate two 1D NumPy arrays horizontally.\n",
    "np.concatenate([m_1D,m_1D], axis=0)\n",
    "# Is this correct? :)\n"
   ]
  },
  {
   "cell_type": "code",
   "execution_count": 41,
   "metadata": {},
   "outputs": [
    {
     "data": {
      "text/plain": [
       "[0.8566810562096038,\n",
       " 0.9032684830834687,\n",
       " 0.6550138151598456,\n",
       " 0.5724630197467789,\n",
       " 0.604343205023468,\n",
       " 0.6702879522577254,\n",
       " 0.599998100120124]"
      ]
     },
     "execution_count": 41,
     "metadata": {},
     "output_type": "execute_result"
    }
   ],
   "source": [
    "# 7. Generate an array of 10 random numbers between 0 and 1 and filter out \n",
    "# values greater than 0.5.\n",
    "arr = np.random.random(10)\n",
    "list(filter(lambda x: x>0.5, arr))\n",
    "# Perfect! I don't know if I'm answering in the right way,but im getting the things\n",
    "# done, isn't it? :)"
   ]
  },
  {
   "cell_type": "code",
   "execution_count": 43,
   "metadata": {},
   "outputs": [
    {
     "name": "stdout",
     "output_type": "stream",
     "text": [
      "(3,) (3,)\n"
     ]
    }
   ],
   "source": [
    "# 8. Calculate the dot product of two 1D arrays of your choice.\n",
    "arr1 = np.array([1,2,3])\n",
    "arr2 = np.array([3,2,1])\n",
    "print(arr1.shape, arr2.shape)\n"
   ]
  },
  {
   "cell_type": "code",
   "execution_count": 49,
   "metadata": {},
   "outputs": [
    {
     "data": {
      "text/plain": [
       "10"
      ]
     },
     "execution_count": 49,
     "metadata": {},
     "output_type": "execute_result"
    }
   ],
   "source": [
    "np.dot(arr1,arr2)\n",
    "# 1*3 + 2*2 + 3*1\n",
    "# perfect! :)"
   ]
  },
  {
   "cell_type": "code",
   "execution_count": 55,
   "metadata": {},
   "outputs": [
    {
     "data": {
      "text/plain": [
       "(0.9032684830834687, 0.13475241985077768)"
      ]
     },
     "execution_count": 55,
     "metadata": {},
     "output_type": "execute_result"
    }
   ],
   "source": [
    "# 9. Write a function to find the maximum and minimum values in a NumPy array.\n",
    "def max_min(arr):\n",
    "    max = np.max(arr)\n",
    "    min = np.min(arr)\n",
    "    return max, min\n",
    "max_min(arr)\n",
    "# :)\n",
    "\n"
   ]
  },
  {
   "cell_type": "code",
   "execution_count": 56,
   "metadata": {},
   "outputs": [
    {
     "name": "stdout",
     "output_type": "stream",
     "text": [
      "Comparison Result: [False  True  True  True]\n"
     ]
    }
   ],
   "source": [
    "# Create two NumPy arrays of different shapes and compare them element-wise \n",
    "# to find which elements are equal.\n",
    "array1 = np.array([1, 2, 3, 4])\n",
    "array2 = np.array([2, 2, 3, 4])\n",
    "\n",
    "comparison_result = array1 == array2\n",
    "print(\"Comparison Result:\", comparison_result)\n",
    "# didnt understand the exercise tbh u.u :(\n",
    "# 9/10 It's okay n.n"
   ]
  },
  {
   "cell_type": "code",
   "execution_count": null,
   "metadata": {},
   "outputs": [],
   "source": []
  }
 ],
 "metadata": {
  "kernelspec": {
   "display_name": "ML",
   "language": "python",
   "name": "python3"
  },
  "language_info": {
   "codemirror_mode": {
    "name": "ipython",
    "version": 3
   },
   "file_extension": ".py",
   "mimetype": "text/x-python",
   "name": "python",
   "nbconvert_exporter": "python",
   "pygments_lexer": "ipython3",
   "version": "3.11.3"
  },
  "orig_nbformat": 4,
  "vscode": {
   "interpreter": {
    "hash": "013996f4590695308fe873e73ccfad17b6da13415dc74e9458db8bd8258c00bb"
   }
  }
 },
 "nbformat": 4,
 "nbformat_minor": 2
}
